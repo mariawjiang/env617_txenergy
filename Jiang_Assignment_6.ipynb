{
  "cells": [
    {
      "cell_type": "markdown",
      "metadata": {
        "id": "view-in-github",
        "colab_type": "text"
      },
      "source": [
        "<a href=\"https://colab.research.google.com/github/mariawjiang/env617_txenergy/blob/main/Jiang_Assignment_6.ipynb\" target=\"_parent\"><img src=\"https://colab.research.google.com/assets/colab-badge.svg\" alt=\"Open In Colab\"/></a>"
      ]
    },
    {
      "cell_type": "code",
      "execution_count": 3,
      "metadata": {
        "colab": {
          "base_uri": "https://localhost:8080/"
        },
        "id": "zFGEOLbfea2G",
        "outputId": "8bd70eea-17ee-47d1-d16b-150a92a76148"
      },
      "outputs": [
        {
          "output_type": "stream",
          "name": "stdout",
          "text": [
            "Looking in indexes: https://pypi.org/simple, https://us-python.pkg.dev/colab-wheels/public/simple/\n",
            "Requirement already satisfied: plotnine in /usr/local/lib/python3.9/dist-packages (0.10.1)\n",
            "Requirement already satisfied: statsmodels>=0.13.2 in /usr/local/lib/python3.9/dist-packages (from plotnine) (0.13.5)\n",
            "Requirement already satisfied: matplotlib>=3.5.0 in /usr/local/lib/python3.9/dist-packages (from plotnine) (3.7.1)\n",
            "Requirement already satisfied: numpy>=1.19.0 in /usr/local/lib/python3.9/dist-packages (from plotnine) (1.22.4)\n",
            "Requirement already satisfied: pandas>=1.3.5 in /usr/local/lib/python3.9/dist-packages (from plotnine) (1.4.4)\n",
            "Requirement already satisfied: patsy>=0.5.1 in /usr/local/lib/python3.9/dist-packages (from plotnine) (0.5.3)\n",
            "Requirement already satisfied: scipy>=1.5.0 in /usr/local/lib/python3.9/dist-packages (from plotnine) (1.10.1)\n",
            "Requirement already satisfied: mizani>=0.8.1 in /usr/local/lib/python3.9/dist-packages (from plotnine) (0.8.1)\n",
            "Requirement already satisfied: python-dateutil>=2.7 in /usr/local/lib/python3.9/dist-packages (from matplotlib>=3.5.0->plotnine) (2.8.2)\n",
            "Requirement already satisfied: cycler>=0.10 in /usr/local/lib/python3.9/dist-packages (from matplotlib>=3.5.0->plotnine) (0.11.0)\n",
            "Requirement already satisfied: fonttools>=4.22.0 in /usr/local/lib/python3.9/dist-packages (from matplotlib>=3.5.0->plotnine) (4.39.3)\n",
            "Requirement already satisfied: pyparsing>=2.3.1 in /usr/local/lib/python3.9/dist-packages (from matplotlib>=3.5.0->plotnine) (3.0.9)\n",
            "Requirement already satisfied: contourpy>=1.0.1 in /usr/local/lib/python3.9/dist-packages (from matplotlib>=3.5.0->plotnine) (1.0.7)\n",
            "Requirement already satisfied: pillow>=6.2.0 in /usr/local/lib/python3.9/dist-packages (from matplotlib>=3.5.0->plotnine) (8.4.0)\n",
            "Requirement already satisfied: packaging>=20.0 in /usr/local/lib/python3.9/dist-packages (from matplotlib>=3.5.0->plotnine) (23.0)\n",
            "Requirement already satisfied: kiwisolver>=1.0.1 in /usr/local/lib/python3.9/dist-packages (from matplotlib>=3.5.0->plotnine) (1.4.4)\n",
            "Requirement already satisfied: importlib-resources>=3.2.0 in /usr/local/lib/python3.9/dist-packages (from matplotlib>=3.5.0->plotnine) (5.12.0)\n",
            "Requirement already satisfied: palettable in /usr/local/lib/python3.9/dist-packages (from mizani>=0.8.1->plotnine) (3.3.0)\n",
            "Requirement already satisfied: pytz>=2020.1 in /usr/local/lib/python3.9/dist-packages (from pandas>=1.3.5->plotnine) (2022.7.1)\n",
            "Requirement already satisfied: six in /usr/local/lib/python3.9/dist-packages (from patsy>=0.5.1->plotnine) (1.16.0)\n",
            "Requirement already satisfied: zipp>=3.1.0 in /usr/local/lib/python3.9/dist-packages (from importlib-resources>=3.2.0->matplotlib>=3.5.0->plotnine) (3.15.0)\n"
          ]
        }
      ],
      "source": [
        "# install necessary modules\n",
        "! pip install fiona shapely pyproj rtree --q # need to install geopandas dependencies (geopandas will not auto install dependencies with pip)\n",
        "! pip install geopandas --q # geopandas/\n",
        "! pip install plotnine --upgrade"
      ]
    },
    {
      "cell_type": "code",
      "execution_count": 4,
      "metadata": {
        "id": "9HnkCBo3emYt"
      },
      "outputs": [],
      "source": [
        "# Basics\n",
        "import pandas as pd\n",
        "import numpy as np\n",
        "\n",
        "# geo\n",
        "import geopandas as gpd\n",
        "from shapely.geometry import Polygon\n",
        "\n",
        "# Plotnine\n",
        "from plotnine import *\n",
        "import plotnine"
      ]
    },
    {
      "cell_type": "code",
      "execution_count": 5,
      "metadata": {
        "colab": {
          "base_uri": "https://localhost:8080/"
        },
        "id": "x4IjllNKgjQr",
        "outputId": "038e9c41-2832-4b5f-bb2d-1ecdcaa05c16"
      },
      "outputs": [
        {
          "output_type": "stream",
          "name": "stdout",
          "text": [
            "--2023-04-10 23:11:13--  https://97dc600d3ccc765f840c-d5a4231de41cd7a15e06ac00b0bcc552.ssl.cf5.rackcdn.com/HydroLAKES_polys_v10_shp.zip\n",
            "Resolving 97dc600d3ccc765f840c-d5a4231de41cd7a15e06ac00b0bcc552.ssl.cf5.rackcdn.com (97dc600d3ccc765f840c-d5a4231de41cd7a15e06ac00b0bcc552.ssl.cf5.rackcdn.com)... 23.41.168.214\n",
            "Connecting to 97dc600d3ccc765f840c-d5a4231de41cd7a15e06ac00b0bcc552.ssl.cf5.rackcdn.com (97dc600d3ccc765f840c-d5a4231de41cd7a15e06ac00b0bcc552.ssl.cf5.rackcdn.com)|23.41.168.214|:443... connected.\n",
            "HTTP request sent, awaiting response... 200 OK\n",
            "Length: 820295132 (782M) [application/zip]\n",
            "Saving to: ‘HydroLAKES_polys_v10_shp.zip.3’\n",
            "\n",
            "HydroLAKES_polys_v1 100%[===================>] 782.29M  90.4MB/s    in 9.7s    \n",
            "\n",
            "2023-04-10 23:11:23 (80.3 MB/s) - ‘HydroLAKES_polys_v10_shp.zip.3’ saved [820295132/820295132]\n",
            "\n"
          ]
        }
      ],
      "source": [
        "#Read in data to dataframe\n",
        "\n",
        "! wget https://97dc600d3ccc765f840c-d5a4231de41cd7a15e06ac00b0bcc552.ssl.cf5.rackcdn.com/HydroLAKES_polys_v10_shp.zip"
      ]
    },
    {
      "cell_type": "code",
      "execution_count": 6,
      "metadata": {
        "colab": {
          "base_uri": "https://localhost:8080/"
        },
        "id": "GownNsWXgxYE",
        "outputId": "bc448fb5-bebe-45d2-bcbd-8055fb2058e7"
      },
      "outputs": [
        {
          "output_type": "stream",
          "name": "stdout",
          "text": [
            "HydroLAKES_polys_v10_shp.zip\n"
          ]
        }
      ],
      "source": [
        "! ls HydroLAKES_polys_v10_shp.zip"
      ]
    },
    {
      "cell_type": "code",
      "execution_count": 7,
      "metadata": {
        "colab": {
          "base_uri": "https://localhost:8080/"
        },
        "id": "_l_L4D7ig2gW",
        "outputId": "09e30ee0-73ff-4e15-d1a4-4f875195eb3f"
      },
      "outputs": [
        {
          "output_type": "stream",
          "name": "stdout",
          "text": [
            "Archive:  HydroLAKES_polys_v10_shp.zip\n",
            "replace HydroLAKES_polys_v10_shp/HydroLAKES_polys_v10.dbf? [y]es, [n]o, [A]ll, [N]one, [r]ename: y\n",
            "  inflating: HydroLAKES_polys_v10_shp/HydroLAKES_polys_v10.dbf  \n",
            "replace HydroLAKES_polys_v10_shp/HydroLAKES_polys_v10.prj? [y]es, [n]o, [A]ll, [N]one, [r]ename: y\n",
            "  inflating: HydroLAKES_polys_v10_shp/HydroLAKES_polys_v10.prj  \n",
            "replace HydroLAKES_polys_v10_shp/HydroLAKES_polys_v10.sbn? [y]es, [n]o, [A]ll, [N]one, [r]ename: y\n",
            "  inflating: HydroLAKES_polys_v10_shp/HydroLAKES_polys_v10.sbn  \n",
            "replace HydroLAKES_polys_v10_shp/HydroLAKES_polys_v10.sbx? [y]es, [n]o, [A]ll, [N]one, [r]ename: A\n",
            "  inflating: HydroLAKES_polys_v10_shp/HydroLAKES_polys_v10.sbx  \n",
            "  inflating: HydroLAKES_polys_v10_shp/HydroLAKES_polys_v10.shp  \n",
            "  inflating: HydroLAKES_polys_v10_shp/HydroLAKES_polys_v10.shx  \n",
            "  inflating: HydroLAKES_TechDoc_v10.pdf  \n"
          ]
        }
      ],
      "source": [
        "! unzip HydroLAKES_polys_v10_shp.zip\n"
      ]
    },
    {
      "cell_type": "code",
      "execution_count": 8,
      "metadata": {
        "id": "mCd7Mdj4hAW4"
      },
      "outputs": [],
      "source": [
        "shape = \"HydroLAKES_polys_v10_shp/HydroLAKES_polys_v10.shp\"\n",
        "df_lake = gpd.read_file(shape)"
      ]
    },
    {
      "cell_type": "code",
      "execution_count": 9,
      "metadata": {
        "id": "c597IS7do_is",
        "colab": {
          "base_uri": "https://localhost:8080/",
          "height": 647
        },
        "outputId": "03baaf19-08a7-4ae3-9f7a-e7873a6d0656"
      },
      "outputs": [
        {
          "output_type": "execute_result",
          "data": {
            "text/plain": [
              "   Hylak_id    Lake_name                   Country      Continent Poly_src  \\\n",
              "0         1  Caspian Sea                    Russia         Europe     SWBD   \n",
              "1         2   Great Bear                    Canada  North America   CanVec   \n",
              "2         3  Great Slave                    Canada  North America   CanVec   \n",
              "3         4     Winnipeg                    Canada  North America   CanVec   \n",
              "4         5     Superior  United States of America  North America     SWBD   \n",
              "\n",
              "   Lake_type  Grand_id  Lake_area  Shore_len  Shore_dev  ...  Vol_src  \\\n",
              "0          1         0  377001.91   15829.37       7.27  ...        1   \n",
              "1          1         0   30450.64    5331.72       8.62  ...        1   \n",
              "2          1         0   26734.29    9814.16      16.93  ...        1   \n",
              "3          3       709   23923.04    4018.32       7.33  ...        1   \n",
              "4          1         0   81843.92    5248.36       5.18  ...        1   \n",
              "\n",
              "   Depth_avg   Dis_avg  Res_time  Elevation  Slope_100  Wshd_area   Pour_long  \\\n",
              "0      200.5  8110.642  107883.0        -29       -1.0  1404108.0   47.717708   \n",
              "1       72.2   535.187   47577.7        145       -1.0   147665.4 -123.505546   \n",
              "2       59.1  4350.692    4203.2        148       -1.0   995312.3 -117.617115   \n",
              "3       11.9  2244.727    1464.3        215       -1.0   919611.5  -97.863542   \n",
              "4      146.7  2869.953   48410.3        179       -1.0   209219.5  -84.460547   \n",
              "\n",
              "    Pour_lat                                           geometry  \n",
              "0  45.591934  POLYGON ((49.96181 37.43847, 49.96457 37.44022...  \n",
              "1  65.138384  POLYGON ((-119.78782 67.03574, -119.78637 67.0...  \n",
              "2  61.311727  POLYGON ((-109.93976 62.95851, -109.93831 62.9...  \n",
              "3  53.696359  POLYGON ((-98.80636 53.88021, -98.80578 53.880...  \n",
              "4  46.468593  POLYGON ((-90.72250 46.65740, -90.72458 46.657...  \n",
              "\n",
              "[5 rows x 22 columns]"
            ],
            "text/html": [
              "\n",
              "  <div id=\"df-90c0d602-0e02-4c1f-9ccc-302a5dcf4cc1\">\n",
              "    <div class=\"colab-df-container\">\n",
              "      <div>\n",
              "<style scoped>\n",
              "    .dataframe tbody tr th:only-of-type {\n",
              "        vertical-align: middle;\n",
              "    }\n",
              "\n",
              "    .dataframe tbody tr th {\n",
              "        vertical-align: top;\n",
              "    }\n",
              "\n",
              "    .dataframe thead th {\n",
              "        text-align: right;\n",
              "    }\n",
              "</style>\n",
              "<table border=\"1\" class=\"dataframe\">\n",
              "  <thead>\n",
              "    <tr style=\"text-align: right;\">\n",
              "      <th></th>\n",
              "      <th>Hylak_id</th>\n",
              "      <th>Lake_name</th>\n",
              "      <th>Country</th>\n",
              "      <th>Continent</th>\n",
              "      <th>Poly_src</th>\n",
              "      <th>Lake_type</th>\n",
              "      <th>Grand_id</th>\n",
              "      <th>Lake_area</th>\n",
              "      <th>Shore_len</th>\n",
              "      <th>Shore_dev</th>\n",
              "      <th>...</th>\n",
              "      <th>Vol_src</th>\n",
              "      <th>Depth_avg</th>\n",
              "      <th>Dis_avg</th>\n",
              "      <th>Res_time</th>\n",
              "      <th>Elevation</th>\n",
              "      <th>Slope_100</th>\n",
              "      <th>Wshd_area</th>\n",
              "      <th>Pour_long</th>\n",
              "      <th>Pour_lat</th>\n",
              "      <th>geometry</th>\n",
              "    </tr>\n",
              "  </thead>\n",
              "  <tbody>\n",
              "    <tr>\n",
              "      <th>0</th>\n",
              "      <td>1</td>\n",
              "      <td>Caspian Sea</td>\n",
              "      <td>Russia</td>\n",
              "      <td>Europe</td>\n",
              "      <td>SWBD</td>\n",
              "      <td>1</td>\n",
              "      <td>0</td>\n",
              "      <td>377001.91</td>\n",
              "      <td>15829.37</td>\n",
              "      <td>7.27</td>\n",
              "      <td>...</td>\n",
              "      <td>1</td>\n",
              "      <td>200.5</td>\n",
              "      <td>8110.642</td>\n",
              "      <td>107883.0</td>\n",
              "      <td>-29</td>\n",
              "      <td>-1.0</td>\n",
              "      <td>1404108.0</td>\n",
              "      <td>47.717708</td>\n",
              "      <td>45.591934</td>\n",
              "      <td>POLYGON ((49.96181 37.43847, 49.96457 37.44022...</td>\n",
              "    </tr>\n",
              "    <tr>\n",
              "      <th>1</th>\n",
              "      <td>2</td>\n",
              "      <td>Great Bear</td>\n",
              "      <td>Canada</td>\n",
              "      <td>North America</td>\n",
              "      <td>CanVec</td>\n",
              "      <td>1</td>\n",
              "      <td>0</td>\n",
              "      <td>30450.64</td>\n",
              "      <td>5331.72</td>\n",
              "      <td>8.62</td>\n",
              "      <td>...</td>\n",
              "      <td>1</td>\n",
              "      <td>72.2</td>\n",
              "      <td>535.187</td>\n",
              "      <td>47577.7</td>\n",
              "      <td>145</td>\n",
              "      <td>-1.0</td>\n",
              "      <td>147665.4</td>\n",
              "      <td>-123.505546</td>\n",
              "      <td>65.138384</td>\n",
              "      <td>POLYGON ((-119.78782 67.03574, -119.78637 67.0...</td>\n",
              "    </tr>\n",
              "    <tr>\n",
              "      <th>2</th>\n",
              "      <td>3</td>\n",
              "      <td>Great Slave</td>\n",
              "      <td>Canada</td>\n",
              "      <td>North America</td>\n",
              "      <td>CanVec</td>\n",
              "      <td>1</td>\n",
              "      <td>0</td>\n",
              "      <td>26734.29</td>\n",
              "      <td>9814.16</td>\n",
              "      <td>16.93</td>\n",
              "      <td>...</td>\n",
              "      <td>1</td>\n",
              "      <td>59.1</td>\n",
              "      <td>4350.692</td>\n",
              "      <td>4203.2</td>\n",
              "      <td>148</td>\n",
              "      <td>-1.0</td>\n",
              "      <td>995312.3</td>\n",
              "      <td>-117.617115</td>\n",
              "      <td>61.311727</td>\n",
              "      <td>POLYGON ((-109.93976 62.95851, -109.93831 62.9...</td>\n",
              "    </tr>\n",
              "    <tr>\n",
              "      <th>3</th>\n",
              "      <td>4</td>\n",
              "      <td>Winnipeg</td>\n",
              "      <td>Canada</td>\n",
              "      <td>North America</td>\n",
              "      <td>CanVec</td>\n",
              "      <td>3</td>\n",
              "      <td>709</td>\n",
              "      <td>23923.04</td>\n",
              "      <td>4018.32</td>\n",
              "      <td>7.33</td>\n",
              "      <td>...</td>\n",
              "      <td>1</td>\n",
              "      <td>11.9</td>\n",
              "      <td>2244.727</td>\n",
              "      <td>1464.3</td>\n",
              "      <td>215</td>\n",
              "      <td>-1.0</td>\n",
              "      <td>919611.5</td>\n",
              "      <td>-97.863542</td>\n",
              "      <td>53.696359</td>\n",
              "      <td>POLYGON ((-98.80636 53.88021, -98.80578 53.880...</td>\n",
              "    </tr>\n",
              "    <tr>\n",
              "      <th>4</th>\n",
              "      <td>5</td>\n",
              "      <td>Superior</td>\n",
              "      <td>United States of America</td>\n",
              "      <td>North America</td>\n",
              "      <td>SWBD</td>\n",
              "      <td>1</td>\n",
              "      <td>0</td>\n",
              "      <td>81843.92</td>\n",
              "      <td>5248.36</td>\n",
              "      <td>5.18</td>\n",
              "      <td>...</td>\n",
              "      <td>1</td>\n",
              "      <td>146.7</td>\n",
              "      <td>2869.953</td>\n",
              "      <td>48410.3</td>\n",
              "      <td>179</td>\n",
              "      <td>-1.0</td>\n",
              "      <td>209219.5</td>\n",
              "      <td>-84.460547</td>\n",
              "      <td>46.468593</td>\n",
              "      <td>POLYGON ((-90.72250 46.65740, -90.72458 46.657...</td>\n",
              "    </tr>\n",
              "  </tbody>\n",
              "</table>\n",
              "<p>5 rows × 22 columns</p>\n",
              "</div>\n",
              "      <button class=\"colab-df-convert\" onclick=\"convertToInteractive('df-90c0d602-0e02-4c1f-9ccc-302a5dcf4cc1')\"\n",
              "              title=\"Convert this dataframe to an interactive table.\"\n",
              "              style=\"display:none;\">\n",
              "        \n",
              "  <svg xmlns=\"http://www.w3.org/2000/svg\" height=\"24px\"viewBox=\"0 0 24 24\"\n",
              "       width=\"24px\">\n",
              "    <path d=\"M0 0h24v24H0V0z\" fill=\"none\"/>\n",
              "    <path d=\"M18.56 5.44l.94 2.06.94-2.06 2.06-.94-2.06-.94-.94-2.06-.94 2.06-2.06.94zm-11 1L8.5 8.5l.94-2.06 2.06-.94-2.06-.94L8.5 2.5l-.94 2.06-2.06.94zm10 10l.94 2.06.94-2.06 2.06-.94-2.06-.94-.94-2.06-.94 2.06-2.06.94z\"/><path d=\"M17.41 7.96l-1.37-1.37c-.4-.4-.92-.59-1.43-.59-.52 0-1.04.2-1.43.59L10.3 9.45l-7.72 7.72c-.78.78-.78 2.05 0 2.83L4 21.41c.39.39.9.59 1.41.59.51 0 1.02-.2 1.41-.59l7.78-7.78 2.81-2.81c.8-.78.8-2.07 0-2.86zM5.41 20L4 18.59l7.72-7.72 1.47 1.35L5.41 20z\"/>\n",
              "  </svg>\n",
              "      </button>\n",
              "      \n",
              "  <style>\n",
              "    .colab-df-container {\n",
              "      display:flex;\n",
              "      flex-wrap:wrap;\n",
              "      gap: 12px;\n",
              "    }\n",
              "\n",
              "    .colab-df-convert {\n",
              "      background-color: #E8F0FE;\n",
              "      border: none;\n",
              "      border-radius: 50%;\n",
              "      cursor: pointer;\n",
              "      display: none;\n",
              "      fill: #1967D2;\n",
              "      height: 32px;\n",
              "      padding: 0 0 0 0;\n",
              "      width: 32px;\n",
              "    }\n",
              "\n",
              "    .colab-df-convert:hover {\n",
              "      background-color: #E2EBFA;\n",
              "      box-shadow: 0px 1px 2px rgba(60, 64, 67, 0.3), 0px 1px 3px 1px rgba(60, 64, 67, 0.15);\n",
              "      fill: #174EA6;\n",
              "    }\n",
              "\n",
              "    [theme=dark] .colab-df-convert {\n",
              "      background-color: #3B4455;\n",
              "      fill: #D2E3FC;\n",
              "    }\n",
              "\n",
              "    [theme=dark] .colab-df-convert:hover {\n",
              "      background-color: #434B5C;\n",
              "      box-shadow: 0px 1px 3px 1px rgba(0, 0, 0, 0.15);\n",
              "      filter: drop-shadow(0px 1px 2px rgba(0, 0, 0, 0.3));\n",
              "      fill: #FFFFFF;\n",
              "    }\n",
              "  </style>\n",
              "\n",
              "      <script>\n",
              "        const buttonEl =\n",
              "          document.querySelector('#df-90c0d602-0e02-4c1f-9ccc-302a5dcf4cc1 button.colab-df-convert');\n",
              "        buttonEl.style.display =\n",
              "          google.colab.kernel.accessAllowed ? 'block' : 'none';\n",
              "\n",
              "        async function convertToInteractive(key) {\n",
              "          const element = document.querySelector('#df-90c0d602-0e02-4c1f-9ccc-302a5dcf4cc1');\n",
              "          const dataTable =\n",
              "            await google.colab.kernel.invokeFunction('convertToInteractive',\n",
              "                                                     [key], {});\n",
              "          if (!dataTable) return;\n",
              "\n",
              "          const docLinkHtml = 'Like what you see? Visit the ' +\n",
              "            '<a target=\"_blank\" href=https://colab.research.google.com/notebooks/data_table.ipynb>data table notebook</a>'\n",
              "            + ' to learn more about interactive tables.';\n",
              "          element.innerHTML = '';\n",
              "          dataTable['output_type'] = 'display_data';\n",
              "          await google.colab.output.renderOutput(dataTable, element);\n",
              "          const docLink = document.createElement('div');\n",
              "          docLink.innerHTML = docLinkHtml;\n",
              "          element.appendChild(docLink);\n",
              "        }\n",
              "      </script>\n",
              "    </div>\n",
              "  </div>\n",
              "  "
            ]
          },
          "metadata": {},
          "execution_count": 9
        }
      ],
      "source": [
        "df_lake.head()"
      ]
    },
    {
      "cell_type": "code",
      "execution_count": 10,
      "metadata": {
        "id": "51xGmHVepD3l",
        "colab": {
          "base_uri": "https://localhost:8080/"
        },
        "outputId": "3b15cae5-ba9b-4206-9b2b-b4f3d5a256f3"
      },
      "outputs": [
        {
          "output_type": "stream",
          "name": "stdout",
          "text": [
            "<class 'geopandas.geodataframe.GeoDataFrame'>\n",
            "RangeIndex: 1427688 entries, 0 to 1427687\n",
            "Data columns (total 22 columns):\n",
            " #   Column     Non-Null Count    Dtype   \n",
            "---  ------     --------------    -----   \n",
            " 0   Hylak_id   1427688 non-null  int64   \n",
            " 1   Lake_name  3022 non-null     object  \n",
            " 2   Country    1427688 non-null  object  \n",
            " 3   Continent  1427688 non-null  object  \n",
            " 4   Poly_src   1427688 non-null  object  \n",
            " 5   Lake_type  1427688 non-null  int64   \n",
            " 6   Grand_id   1427688 non-null  int64   \n",
            " 7   Lake_area  1427688 non-null  float64 \n",
            " 8   Shore_len  1427688 non-null  float64 \n",
            " 9   Shore_dev  1427688 non-null  float64 \n",
            " 10  Vol_total  1427688 non-null  float64 \n",
            " 11  Vol_res    1427688 non-null  float64 \n",
            " 12  Vol_src    1427688 non-null  int64   \n",
            " 13  Depth_avg  1427688 non-null  float64 \n",
            " 14  Dis_avg    1427688 non-null  float64 \n",
            " 15  Res_time   1427688 non-null  float64 \n",
            " 16  Elevation  1427688 non-null  int64   \n",
            " 17  Slope_100  1427688 non-null  float64 \n",
            " 18  Wshd_area  1427688 non-null  float64 \n",
            " 19  Pour_long  1427688 non-null  float64 \n",
            " 20  Pour_lat   1427688 non-null  float64 \n",
            " 21  geometry   1427688 non-null  geometry\n",
            "dtypes: float64(12), geometry(1), int64(5), object(4)\n",
            "memory usage: 239.6+ MB\n"
          ]
        }
      ],
      "source": [
        "df_lake.info()"
      ]
    },
    {
      "cell_type": "code",
      "execution_count": 11,
      "metadata": {
        "id": "MlXxnBV08tu4",
        "colab": {
          "base_uri": "https://localhost:8080/",
          "height": 276
        },
        "outputId": "24025749-e9a4-4ceb-82f4-94db23803855"
      },
      "outputs": [
        {
          "output_type": "execute_result",
          "data": {
            "text/plain": [
              "<Axes: >"
            ]
          },
          "metadata": {},
          "execution_count": 11
        },
        {
          "output_type": "display_data",
          "data": {
            "text/plain": [
              "<Figure size 640x480 with 1 Axes>"
            ],
            "image/png": "[encoded data removed]"
          },
          "metadata": {}
        }
      ],
      "source": [
        "df_lake.plot()"
      ]
    },
    {
      "cell_type": "code",
      "execution_count": 12,
      "metadata": {
        "id": "jyXwsDJ7BVfN",
        "colab": {
          "base_uri": "https://localhost:8080/"
        },
        "outputId": "e86e4f01-a08a-4d46-b385-ee99a614102a"
      },
      "outputs": [
        {
          "output_type": "stream",
          "name": "stdout",
          "text": [
            "--2023-04-10 23:30:42--  https://www.dropbox.com/sh/hmpwobbz9qixxpe/AACiujdXJ5DfsaK7zcKOJyZpa/HydroBASINS/customized/af/hybas_lake_af_lev01-12_v1c.zip?dl=0\n",
            "Resolving www.dropbox.com (www.dropbox.com)... 162.125.6.18, 2620:100:6019:18::a27d:412\n",
            "Connecting to www.dropbox.com (www.dropbox.com)|162.125.6.18|:443... connected.\n",
            "HTTP request sent, awaiting response... 302 Found\n",
            "Location: /sh/raw/hmpwobbz9qixxpe/AACiujdXJ5DfsaK7zcKOJyZpa/HydroBASINS/customized/af/hybas_lake_af_lev01-12_v1c.zip [following]\n",
            "--2023-04-10 23:30:42--  https://www.dropbox.com/sh/raw/hmpwobbz9qixxpe/AACiujdXJ5DfsaK7zcKOJyZpa/HydroBASINS/customized/af/hybas_lake_af_lev01-12_v1c.zip\n",
            "Reusing existing connection to www.dropbox.com:443.\n",
            "HTTP request sent, awaiting response... 302 Found\n",
            "Location: https://ucb06a6ab16d75d82b8bc53d6b28.dl.dropboxusercontent.com/cd/0/inline/B5-j2bLq0JWoxfTz4GSI2KsLAUFKHDoRZpU511sRyx26xVhTGCApNMJPf60WqtTKlJk0JWTx-nH8vYRifOrnrK6t7CKxWYKMlphFO7LHu2F0Sx4LYrJw7Onq3SZ1aaCdllMkDb3mZXUi9v2nfto4ZJWhyoY2B2bP85gkKjc1OlwqyQ/file# [following]\n",
            "--2023-04-10 23:30:43--  https://ucb06a6ab16d75d82b8bc53d6b28.dl.dropboxusercontent.com/cd/0/inline/B5-j2bLq0JWoxfTz4GSI2KsLAUFKHDoRZpU511sRyx26xVhTGCApNMJPf60WqtTKlJk0JWTx-nH8vYRifOrnrK6t7CKxWYKMlphFO7LHu2F0Sx4LYrJw7Onq3SZ1aaCdllMkDb3mZXUi9v2nfto4ZJWhyoY2B2bP85gkKjc1OlwqyQ/file\n",
            "Resolving ucb06a6ab16d75d82b8bc53d6b28.dl.dropboxusercontent.com (ucb06a6ab16d75d82b8bc53d6b28.dl.dropboxusercontent.com)... 162.125.7.15, 2620:100:6019:15::a27d:40f\n",
            "Connecting to ucb06a6ab16d75d82b8bc53d6b28.dl.dropboxusercontent.com (ucb06a6ab16d75d82b8bc53d6b28.dl.dropboxusercontent.com)|162.125.7.15|:443... connected.\n",
            "HTTP request sent, awaiting response... 302 Found\n",
            "Location: /cd/0/inline2/B5-qAUapS2_xRxicB1_MoobtcebMYrCHqaTQArCJGv8i1bjsgkwuNKzbKLYeJun9oJ18gPOKzZCB3ePWR6FXt3H8y5u8krg_bKjZ3cdpcHr4zXfmtrMEDNWXwioYiLmfdcH2IbU6h8DTjF0ZhJxdxJLnwUdm3aeuQgrG2gLTnHyb33jujokNmxr1W3oR4J7Xj20Lw08e9GdbPO2G0uIC7Qm3NcV_S2iNNF9OKBAX4DgsFlzrR8BBHlZakIWn8AgUPHpNe-gvJiMwbG5jZkANehykznmrMfDkquGVhCJwqJkEbYRPSeFNrcM7_pt89HlvIt15FnEy-Y0p3y_t6JrAvFx5i-yl2zaewfubE5WrKVhimPnzT88RiBqYtDgyEf__qaXfLgKTWCF85HfEsq1wHoWnkozX2cS6sTsWY2PJeMSJcg/file [following]\n",
            "--2023-04-10 23:30:43--  https://ucb06a6ab16d75d82b8bc53d6b28.dl.dropboxusercontent.com/cd/0/inline2/B5-qAUapS2_xRxicB1_MoobtcebMYrCHqaTQArCJGv8i1bjsgkwuNKzbKLYeJun9oJ18gPOKzZCB3ePWR6FXt3H8y5u8krg_bKjZ3cdpcHr4zXfmtrMEDNWXwioYiLmfdcH2IbU6h8DTjF0ZhJxdxJLnwUdm3aeuQgrG2gLTnHyb33jujokNmxr1W3oR4J7Xj20Lw08e9GdbPO2G0uIC7Qm3NcV_S2iNNF9OKBAX4DgsFlzrR8BBHlZakIWn8AgUPHpNe-gvJiMwbG5jZkANehykznmrMfDkquGVhCJwqJkEbYRPSeFNrcM7_pt89HlvIt15FnEy-Y0p3y_t6JrAvFx5i-yl2zaewfubE5WrKVhimPnzT88RiBqYtDgyEf__qaXfLgKTWCF85HfEsq1wHoWnkozX2cS6sTsWY2PJeMSJcg/file\n",
            "Reusing existing connection to ucb06a6ab16d75d82b8bc53d6b28.dl.dropboxusercontent.com:443.\n",
            "HTTP request sent, awaiting response... 200 OK\n",
            "Length: 569665597 (543M) [application/zip]\n",
            "Saving to: ‘hybas_lake_af_lev01-12_v1c.zip?dl=0.2’\n",
            "\n",
            "hybas_lake_af_lev01 100%[===================>] 543.28M  44.3MB/s    in 13s     \n",
            "\n",
            "2023-04-10 23:30:57 (41.4 MB/s) - ‘hybas_lake_af_lev01-12_v1c.zip?dl=0.2’ saved [569665597/569665597]\n",
            "\n"
          ]
        }
      ],
      "source": [
        "#read in HydroBasins data\n",
        "\n",
        "! wget https://www.dropbox.com/sh/hmpwobbz9qixxpe/AACiujdXJ5DfsaK7zcKOJyZpa/HydroBASINS/customized/af/hybas_lake_af_lev01-12_v1c.zip?dl=0"
      ]
    },
    {
      "cell_type": "code",
      "execution_count": 13,
      "metadata": {
        "id": "pACkrl4iBtZ6",
        "colab": {
          "base_uri": "https://localhost:8080/"
        },
        "outputId": "e69163af-b55e-4074-bc11-e00763717bb4"
      },
      "outputs": [
        {
          "output_type": "stream",
          "name": "stdout",
          "text": [
            "'hybas_lake_af_lev01-12_v1c.zip?dl=0.1'\n"
          ]
        }
      ],
      "source": [
        "! ls hybas_lake_af_lev01-12_v1c.zip?dl=0.1"
      ]
    },
    {
      "cell_type": "code",
      "execution_count": 16,
      "metadata": {
        "id": "sJdhS73xD2KD",
        "colab": {
          "base_uri": "https://localhost:8080/"
        },
        "outputId": "3c5daeb1-64a7-48f8-a548-48d47d21cda1"
      },
      "outputs": [
        {
          "metadata": {
            "tags": null
          },
          "name": "stdout",
          "output_type": "stream",
          "text": [
            "Archive:  hybas_lake_af_lev01-12_v1c.zip?dl=0.1\n",
            "replace hybas_lake_af_lev01_v1c.dbf? [y]es, [n]o, [A]ll, [N]one, [r]ename: "
          ]
        }
      ],
      "source": [
        "! unzip hybas_lake_af_lev01-12_v1c.zip?dl=0.1"
      ]
    },
    {
      "cell_type": "code",
      "execution_count": 17,
      "metadata": {
        "id": "AX7icnhtESje"
      },
      "outputs": [],
      "source": [
        "shape1 = \"hybas_lake_af_lev01_v1c.shp\"\n",
        "df_basin1 = gpd.read_file(shape1)\n",
        "\n",
        "shape2 = \"hybas_lake_af_lev02_v1c.shp\"\n",
        "df_basin2 = gpd.read_file(shape2)\n",
        "\n",
        "shape3 = \"hybas_lake_af_lev03_v1c.shp\"\n",
        "df_basin3 = gpd.read_file(shape3)\n",
        "\n",
        "shape4 = \"hybas_lake_af_lev04_v1c.shp\"\n",
        "df_basin4 = gpd.read_file(shape4)\n",
        "\n",
        "shape5 = \"hybas_lake_af_lev05_v1c.shp\"\n",
        "df_basin5 = gpd.read_file(shape5)\n",
        "\n",
        "shape6 = \"hybas_lake_af_lev06_v1c.shp\"\n",
        "df_basin6 = gpd.read_file(shape6)\n",
        "\n",
        "shape7 = \"hybas_lake_af_lev07_v1c.shp\"\n",
        "df_basin7 = gpd.read_file(shape7)\n",
        "\n",
        "shape8 = \"hybas_lake_af_lev08_v1c.shp\"\n",
        "df_basin8 = gpd.read_file(shape8)\n",
        "\n",
        "shape9 = \"hybas_lake_af_lev09_v1c.shp\"\n",
        "df_basin9 = gpd.read_file(shape9)"
      ]
    },
    {
      "cell_type": "code",
      "source": [
        "df_basins=df_basin1.append([df_basin2, df_basin3, df_basin4, df_basin5, df_basin6, df_basin7, df_basin8, df_basin9])\n",
        "print(df_basins)"
      ],
      "metadata": {
        "colab": {
          "base_uri": "https://localhost:8080/"
        },
        "id": "AOoatYTrVKTA",
        "outputId": "51d1c5ff-a989-449b-85e4-4ece859b51db"
      },
      "execution_count": 26,
      "outputs": [
        {
          "output_type": "stream",
          "name": "stderr",
          "text": [
            "<ipython-input-26-09db07271735>:1: FutureWarning: The frame.append method is deprecated and will be removed from pandas in a future version. Use pandas.concat instead.\n"
          ]
        },
        {
          "output_type": "stream",
          "name": "stdout",
          "text": [
            "          HYBAS_ID   NEXT_DOWN   NEXT_SINK    MAIN_BAS  DIST_SINK  DIST_MAIN  \\\n",
            "0       1010000010           0  1010000010  1010000010        0.0        0.0   \n",
            "0       1020000010           0  1020000010  1020000010        0.0        0.0   \n",
            "1       1020011530           0  1020011530  1020011530        0.0        0.0   \n",
            "2       1020018110           0  1020018110  1020018110        0.0        0.0   \n",
            "3       1020021940           0  1020021940  1020021940        0.0        0.0   \n",
            "...            ...         ...         ...         ...        ...        ...   \n",
            "115621  1090082530  1091218980  1090082530  1090009010        0.0      415.8   \n",
            "115622  1090082540           0  1090082540  1090082540        0.0        0.0   \n",
            "115623  1090082570           0  1090082570  1090082570        0.0        0.0   \n",
            "115624  1090082590  1091221572  1090082590  1090009010        0.0      417.3   \n",
            "115625  1090082610           0  1090082610  1090082610        0.0        0.0   \n",
            "\n",
            "          SUB_AREA     UP_AREA    PFAF_ID SIDE  LAKE  ENDO  COAST  ORDER  \\\n",
            "0       29953552.4  29953552.0          1    M     0     0      1      0   \n",
            "0        3258360.8   3258360.8         11    M     0     0      1      0   \n",
            "1        4660107.7   4660107.7         12    M     0     0      1      0   \n",
            "2        4900488.0   4900488.0         13    M     0     0      1      0   \n",
            "3        4046885.0   4046885.0         14    M     0     0      1      0   \n",
            "...            ...         ...        ...  ...   ...   ...    ...    ...   \n",
            "115621         8.4         8.6  117349050    M     0     2      0      2   \n",
            "115622         8.1         8.4  115802020    M     0     2      0      1   \n",
            "115623         7.0         7.1  115209090    M     0     2      0      1   \n",
            "115624         6.2         6.4  117348060    M     0     2      0      4   \n",
            "115625         5.8         5.9  128002040    M     0     2      0      1   \n",
            "\n",
            "          SORT                                           geometry  \n",
            "0            1  MULTIPOLYGON (((33.67778 27.62917, 33.67119 27...  \n",
            "0            1  MULTIPOLYGON (((33.67778 27.62917, 33.67119 27...  \n",
            "1            2  MULTIPOLYGON (((34.80278 -19.81667, 34.79279 -...  \n",
            "2            3  MULTIPOLYGON (((5.64444 -1.47083, 5.62972 -1.4...  \n",
            "3            4  MULTIPOLYGON (((-12.43056 7.54167, -12.44087 7...  \n",
            "...        ...                                                ...  \n",
            "115621  115622  POLYGON ((36.94167 -3.30000, 36.92674 -3.29965...  \n",
            "115622  115623  POLYGON ((40.18750 13.01667, 40.18816 13.02410...  \n",
            "115623  115624  POLYGON ((36.56250 -1.29583, 36.55091 -1.29521...  \n",
            "115624  115625  POLYGON ((37.68750 -3.32917, 37.68418 -3.32832...  \n",
            "115625  115626  POLYGON ((16.27917 -27.76667, 16.27952 -27.760...  \n",
            "\n",
            "[176708 rows x 16 columns]\n"
          ]
        }
      ]
    },
    {
      "cell_type": "code",
      "source": [
        "url='https://raw.githubusercontent.com/envirodatascience/ENVS-617-Class-Data/main/basin_temp_africa_2000_2014.csv'\n",
        "df_temp=pd.read_csv(url)\n",
        "\n",
        "df_temp.head()"
      ],
      "metadata": {
        "colab": {
          "base_uri": "https://localhost:8080/",
          "height": 206
        },
        "id": "6sW5_79UcqiU",
        "outputId": "45f1a618-e730-4b9e-8415-629175fd36ac"
      },
      "execution_count": 53,
      "outputs": [
        {
          "output_type": "execute_result",
          "data": {
            "text/plain": [
              "   Year    HYBAS_ID  mean_annual_temp_k\n",
              "0  2000  1120030770          291.392984\n",
              "1  2000  1120032100          293.570814\n",
              "2  2000  1121453520          297.826864\n",
              "3  2000  1090048530          293.746552\n",
              "4  2000  1120137260          294.257130"
            ],
            "text/html": [
              "\n",
              "  <div id=\"df-fe8e839c-d04b-40b1-b4ac-3f394891fc9c\">\n",
              "    <div class=\"colab-df-container\">\n",
              "      <div>\n",
              "<style scoped>\n",
              "    .dataframe tbody tr th:only-of-type {\n",
              "        vertical-align: middle;\n",
              "    }\n",
              "\n",
              "    .dataframe tbody tr th {\n",
              "        vertical-align: top;\n",
              "    }\n",
              "\n",
              "    .dataframe thead th {\n",
              "        text-align: right;\n",
              "    }\n",
              "</style>\n",
              "<table border=\"1\" class=\"dataframe\">\n",
              "  <thead>\n",
              "    <tr style=\"text-align: right;\">\n",
              "      <th></th>\n",
              "      <th>Year</th>\n",
              "      <th>HYBAS_ID</th>\n",
              "      <th>mean_annual_temp_k</th>\n",
              "    </tr>\n",
              "  </thead>\n",
              "  <tbody>\n",
              "    <tr>\n",
              "      <th>0</th>\n",
              "      <td>2000</td>\n",
              "      <td>1120030770</td>\n",
              "      <td>291.392984</td>\n",
              "    </tr>\n",
              "    <tr>\n",
              "      <th>1</th>\n",
              "      <td>2000</td>\n",
              "      <td>1120032100</td>\n",
              "      <td>293.570814</td>\n",
              "    </tr>\n",
              "    <tr>\n",
              "      <th>2</th>\n",
              "      <td>2000</td>\n",
              "      <td>1121453520</td>\n",
              "      <td>297.826864</td>\n",
              "    </tr>\n",
              "    <tr>\n",
              "      <th>3</th>\n",
              "      <td>2000</td>\n",
              "      <td>1090048530</td>\n",
              "      <td>293.746552</td>\n",
              "    </tr>\n",
              "    <tr>\n",
              "      <th>4</th>\n",
              "      <td>2000</td>\n",
              "      <td>1120137260</td>\n",
              "      <td>294.257130</td>\n",
              "    </tr>\n",
              "  </tbody>\n",
              "</table>\n",
              "</div>\n",
              "      <button class=\"colab-df-convert\" onclick=\"convertToInteractive('df-fe8e839c-d04b-40b1-b4ac-3f394891fc9c')\"\n",
              "              title=\"Convert this dataframe to an interactive table.\"\n",
              "              style=\"display:none;\">\n",
              "        \n",
              "  <svg xmlns=\"http://www.w3.org/2000/svg\" height=\"24px\"viewBox=\"0 0 24 24\"\n",
              "       width=\"24px\">\n",
              "    <path d=\"M0 0h24v24H0V0z\" fill=\"none\"/>\n",
              "    <path d=\"M18.56 5.44l.94 2.06.94-2.06 2.06-.94-2.06-.94-.94-2.06-.94 2.06-2.06.94zm-11 1L8.5 8.5l.94-2.06 2.06-.94-2.06-.94L8.5 2.5l-.94 2.06-2.06.94zm10 10l.94 2.06.94-2.06 2.06-.94-2.06-.94-.94-2.06-.94 2.06-2.06.94z\"/><path d=\"M17.41 7.96l-1.37-1.37c-.4-.4-.92-.59-1.43-.59-.52 0-1.04.2-1.43.59L10.3 9.45l-7.72 7.72c-.78.78-.78 2.05 0 2.83L4 21.41c.39.39.9.59 1.41.59.51 0 1.02-.2 1.41-.59l7.78-7.78 2.81-2.81c.8-.78.8-2.07 0-2.86zM5.41 20L4 18.59l7.72-7.72 1.47 1.35L5.41 20z\"/>\n",
              "  </svg>\n",
              "      </button>\n",
              "      \n",
              "  <style>\n",
              "    .colab-df-container {\n",
              "      display:flex;\n",
              "      flex-wrap:wrap;\n",
              "      gap: 12px;\n",
              "    }\n",
              "\n",
              "    .colab-df-convert {\n",
              "      background-color: #E8F0FE;\n",
              "      border: none;\n",
              "      border-radius: 50%;\n",
              "      cursor: pointer;\n",
              "      display: none;\n",
              "      fill: #1967D2;\n",
              "      height: 32px;\n",
              "      padding: 0 0 0 0;\n",
              "      width: 32px;\n",
              "    }\n",
              "\n",
              "    .colab-df-convert:hover {\n",
              "      background-color: #E2EBFA;\n",
              "      box-shadow: 0px 1px 2px rgba(60, 64, 67, 0.3), 0px 1px 3px 1px rgba(60, 64, 67, 0.15);\n",
              "      fill: #174EA6;\n",
              "    }\n",
              "\n",
              "    [theme=dark] .colab-df-convert {\n",
              "      background-color: #3B4455;\n",
              "      fill: #D2E3FC;\n",
              "    }\n",
              "\n",
              "    [theme=dark] .colab-df-convert:hover {\n",
              "      background-color: #434B5C;\n",
              "      box-shadow: 0px 1px 3px 1px rgba(0, 0, 0, 0.15);\n",
              "      filter: drop-shadow(0px 1px 2px rgba(0, 0, 0, 0.3));\n",
              "      fill: #FFFFFF;\n",
              "    }\n",
              "  </style>\n",
              "\n",
              "      <script>\n",
              "        const buttonEl =\n",
              "          document.querySelector('#df-fe8e839c-d04b-40b1-b4ac-3f394891fc9c button.colab-df-convert');\n",
              "        buttonEl.style.display =\n",
              "          google.colab.kernel.accessAllowed ? 'block' : 'none';\n",
              "\n",
              "        async function convertToInteractive(key) {\n",
              "          const element = document.querySelector('#df-fe8e839c-d04b-40b1-b4ac-3f394891fc9c');\n",
              "          const dataTable =\n",
              "            await google.colab.kernel.invokeFunction('convertToInteractive',\n",
              "                                                     [key], {});\n",
              "          if (!dataTable) return;\n",
              "\n",
              "          const docLinkHtml = 'Like what you see? Visit the ' +\n",
              "            '<a target=\"_blank\" href=https://colab.research.google.com/notebooks/data_table.ipynb>data table notebook</a>'\n",
              "            + ' to learn more about interactive tables.';\n",
              "          element.innerHTML = '';\n",
              "          dataTable['output_type'] = 'display_data';\n",
              "          await google.colab.output.renderOutput(dataTable, element);\n",
              "          const docLink = document.createElement('div');\n",
              "          docLink.innerHTML = docLinkHtml;\n",
              "          element.appendChild(docLink);\n",
              "        }\n",
              "      </script>\n",
              "    </div>\n",
              "  </div>\n",
              "  "
            ]
          },
          "metadata": {},
          "execution_count": 53
        }
      ]
    },
    {
      "cell_type": "code",
      "source": [
        "df_temp.info()"
      ],
      "metadata": {
        "colab": {
          "base_uri": "https://localhost:8080/"
        },
        "id": "B6RqfhH3jxJN",
        "outputId": "6ab99ee9-aaf3-4a76-a896-a5ebf7e71bf8"
      },
      "execution_count": 54,
      "outputs": [
        {
          "output_type": "stream",
          "name": "stdout",
          "text": [
            "<class 'pandas.core.frame.DataFrame'>\n",
            "RangeIndex: 17578 entries, 0 to 17577\n",
            "Data columns (total 3 columns):\n",
            " #   Column              Non-Null Count  Dtype  \n",
            "---  ------              --------------  -----  \n",
            " 0   Year                17578 non-null  int64  \n",
            " 1   HYBAS_ID            17578 non-null  int64  \n",
            " 2   mean_annual_temp_k  17578 non-null  float64\n",
            "dtypes: float64(1), int64(2)\n",
            "memory usage: 412.1 KB\n"
          ]
        }
      ]
    },
    {
      "cell_type": "code",
      "source": [
        "#Calculate change in mean average temp between 2000 and 2014\n",
        "\n",
        "df_temp_wide = pd.pivot(df_temp, values='mean_annual_temp_k', index='HYBAS_ID', columns='Year')"
      ],
      "metadata": {
        "id": "0VwgdSx6j6_6"
      },
      "execution_count": 73,
      "outputs": []
    },
    {
      "cell_type": "code",
      "source": [
        "print(df_temp_wide)"
      ],
      "metadata": {
        "colab": {
          "base_uri": "https://localhost:8080/"
        },
        "id": "iqXfXmsQpDT6",
        "outputId": "ebf27f31-fbc1-454d-f84d-479f00e97951"
      },
      "execution_count": 74,
      "outputs": [
        {
          "output_type": "stream",
          "name": "stdout",
          "text": [
            "Year              2000        2014\n",
            "HYBAS_ID                          \n",
            "1020011530  293.860050  294.006249\n",
            "1030008100  298.930491  298.907453\n",
            "1030008110  297.194428  297.007177\n",
            "1030011660  295.516935  295.599848\n",
            "1030012590  293.919608  294.596602\n",
            "...                ...         ...\n",
            "2120826590  294.008656  294.985769\n",
            "2120826600  293.908179  294.884785\n",
            "2120829200  293.930317  294.923461\n",
            "2120829280  293.680884  294.690491\n",
            "2121299810  293.922775  294.859357\n",
            "\n",
            "[8789 rows x 2 columns]\n"
          ]
        }
      ]
    },
    {
      "cell_type": "code",
      "source": [
        "df_temp_widenew=df_temp_wide.reset_index()"
      ],
      "metadata": {
        "id": "m9vo3g05qyPx"
      },
      "execution_count": 75,
      "outputs": []
    },
    {
      "cell_type": "code",
      "source": [
        "print(df_temp_widenew)"
      ],
      "metadata": {
        "colab": {
          "base_uri": "https://localhost:8080/"
        },
        "id": "BAPUc-kiq3j4",
        "outputId": "4345091d-3183-4b51-e49f-3900f19dc1a2"
      },
      "execution_count": 77,
      "outputs": [
        {
          "output_type": "stream",
          "name": "stdout",
          "text": [
            "Year    HYBAS_ID        2000        2014\n",
            "0     1020011530  293.860050  294.006249\n",
            "1     1030008100  298.930491  298.907453\n",
            "2     1030008110  297.194428  297.007177\n",
            "3     1030011660  295.516935  295.599848\n",
            "4     1030012590  293.919608  294.596602\n",
            "...          ...         ...         ...\n",
            "8784  2120826590  294.008656  294.985769\n",
            "8785  2120826600  293.908179  294.884785\n",
            "8786  2120829200  293.930317  294.923461\n",
            "8787  2120829280  293.680884  294.690491\n",
            "8788  2121299810  293.922775  294.859357\n",
            "\n",
            "[8789 rows x 3 columns]\n"
          ]
        }
      ]
    },
    {
      "cell_type": "code",
      "source": [
        "df_temp_widenew[\"temp_diff\"] = df_temp_widenew[\"2014\"] - df_temp_widenew[\"2000\"]"
      ],
      "metadata": {
        "colab": {
          "base_uri": "https://localhost:8080/",
          "height": 586
        },
        "id": "QtQaf4ispHFg",
        "outputId": "fdef5362-3a21-498d-f244-df6075b59258"
      },
      "execution_count": 79,
      "outputs": [
        {
          "output_type": "error",
          "ename": "KeyError",
          "evalue": "ignored",
          "traceback": [
            "\u001b[0;31m---------------------------------------------------------------------------\u001b[0m",
            "\u001b[0;31mKeyError\u001b[0m                                  Traceback (most recent call last)",
            "\u001b[0;32m/usr/local/lib/python3.9/dist-packages/pandas/core/indexes/base.py\u001b[0m in \u001b[0;36mget_loc\u001b[0;34m(self, key, method, tolerance)\u001b[0m\n\u001b[1;32m   3628\u001b[0m             \u001b[0;32mtry\u001b[0m\u001b[0;34m:\u001b[0m\u001b[0;34m\u001b[0m\u001b[0;34m\u001b[0m\u001b[0m\n\u001b[0;32m-> 3629\u001b[0;31m                 \u001b[0;32mreturn\u001b[0m \u001b[0mself\u001b[0m\u001b[0;34m.\u001b[0m\u001b[0m_engine\u001b[0m\u001b[0;34m.\u001b[0m\u001b[0mget_loc\u001b[0m\u001b[0;34m(\u001b[0m\u001b[0mcasted_key\u001b[0m\u001b[0;34m)\u001b[0m\u001b[0;34m\u001b[0m\u001b[0;34m\u001b[0m\u001b[0m\n\u001b[0m\u001b[1;32m   3630\u001b[0m             \u001b[0;32mexcept\u001b[0m \u001b[0mKeyError\u001b[0m \u001b[0;32mas\u001b[0m \u001b[0merr\u001b[0m\u001b[0;34m:\u001b[0m\u001b[0;34m\u001b[0m\u001b[0;34m\u001b[0m\u001b[0m\n",
            "\u001b[0;32m/usr/local/lib/python3.9/dist-packages/pandas/_libs/index.pyx\u001b[0m in \u001b[0;36mpandas._libs.index.IndexEngine.get_loc\u001b[0;34m()\u001b[0m\n",
            "\u001b[0;32m/usr/local/lib/python3.9/dist-packages/pandas/_libs/index.pyx\u001b[0m in \u001b[0;36mpandas._libs.index.IndexEngine.get_loc\u001b[0;34m()\u001b[0m\n",
            "\u001b[0;32mpandas/_libs/hashtable_class_helper.pxi\u001b[0m in \u001b[0;36mpandas._libs.hashtable.PyObjectHashTable.get_item\u001b[0;34m()\u001b[0m\n",
            "\u001b[0;32mpandas/_libs/hashtable_class_helper.pxi\u001b[0m in \u001b[0;36mpandas._libs.hashtable.PyObjectHashTable.get_item\u001b[0;34m()\u001b[0m\n",
            "\u001b[0;31mKeyError\u001b[0m: '2014'",
            "\nThe above exception was the direct cause of the following exception:\n",
            "\u001b[0;31mKeyError\u001b[0m                                  Traceback (most recent call last)",
            "\u001b[0;32m<ipython-input-79-607d5fdc0457>\u001b[0m in \u001b[0;36m<cell line: 1>\u001b[0;34m()\u001b[0m\n\u001b[0;32m----> 1\u001b[0;31m \u001b[0mdf_temp_widenew\u001b[0m\u001b[0;34m[\u001b[0m\u001b[0;34m\"temp_diff\"\u001b[0m\u001b[0;34m]\u001b[0m \u001b[0;34m=\u001b[0m \u001b[0mdf_temp_widenew\u001b[0m\u001b[0;34m[\u001b[0m\u001b[0;34m\"2014\"\u001b[0m\u001b[0;34m]\u001b[0m \u001b[0;34m-\u001b[0m \u001b[0mdf_temp_widenew\u001b[0m\u001b[0;34m[\u001b[0m\u001b[0;34m\"2000\"\u001b[0m\u001b[0;34m]\u001b[0m\u001b[0;34m\u001b[0m\u001b[0;34m\u001b[0m\u001b[0m\n\u001b[0m",
            "\u001b[0;32m/usr/local/lib/python3.9/dist-packages/pandas/core/frame.py\u001b[0m in \u001b[0;36m__getitem__\u001b[0;34m(self, key)\u001b[0m\n\u001b[1;32m   3503\u001b[0m             \u001b[0;32mif\u001b[0m \u001b[0mself\u001b[0m\u001b[0;34m.\u001b[0m\u001b[0mcolumns\u001b[0m\u001b[0;34m.\u001b[0m\u001b[0mnlevels\u001b[0m \u001b[0;34m>\u001b[0m \u001b[0;36m1\u001b[0m\u001b[0;34m:\u001b[0m\u001b[0;34m\u001b[0m\u001b[0;34m\u001b[0m\u001b[0m\n\u001b[1;32m   3504\u001b[0m                 \u001b[0;32mreturn\u001b[0m \u001b[0mself\u001b[0m\u001b[0;34m.\u001b[0m\u001b[0m_getitem_multilevel\u001b[0m\u001b[0;34m(\u001b[0m\u001b[0mkey\u001b[0m\u001b[0;34m)\u001b[0m\u001b[0;34m\u001b[0m\u001b[0;34m\u001b[0m\u001b[0m\n\u001b[0;32m-> 3505\u001b[0;31m             \u001b[0mindexer\u001b[0m \u001b[0;34m=\u001b[0m \u001b[0mself\u001b[0m\u001b[0;34m.\u001b[0m\u001b[0mcolumns\u001b[0m\u001b[0;34m.\u001b[0m\u001b[0mget_loc\u001b[0m\u001b[0;34m(\u001b[0m\u001b[0mkey\u001b[0m\u001b[0;34m)\u001b[0m\u001b[0;34m\u001b[0m\u001b[0;34m\u001b[0m\u001b[0m\n\u001b[0m\u001b[1;32m   3506\u001b[0m             \u001b[0;32mif\u001b[0m \u001b[0mis_integer\u001b[0m\u001b[0;34m(\u001b[0m\u001b[0mindexer\u001b[0m\u001b[0;34m)\u001b[0m\u001b[0;34m:\u001b[0m\u001b[0;34m\u001b[0m\u001b[0;34m\u001b[0m\u001b[0m\n\u001b[1;32m   3507\u001b[0m                 \u001b[0mindexer\u001b[0m \u001b[0;34m=\u001b[0m \u001b[0;34m[\u001b[0m\u001b[0mindexer\u001b[0m\u001b[0;34m]\u001b[0m\u001b[0;34m\u001b[0m\u001b[0;34m\u001b[0m\u001b[0m\n",
            "\u001b[0;32m/usr/local/lib/python3.9/dist-packages/pandas/core/indexes/base.py\u001b[0m in \u001b[0;36mget_loc\u001b[0;34m(self, key, method, tolerance)\u001b[0m\n\u001b[1;32m   3629\u001b[0m                 \u001b[0;32mreturn\u001b[0m \u001b[0mself\u001b[0m\u001b[0;34m.\u001b[0m\u001b[0m_engine\u001b[0m\u001b[0;34m.\u001b[0m\u001b[0mget_loc\u001b[0m\u001b[0;34m(\u001b[0m\u001b[0mcasted_key\u001b[0m\u001b[0;34m)\u001b[0m\u001b[0;34m\u001b[0m\u001b[0;34m\u001b[0m\u001b[0m\n\u001b[1;32m   3630\u001b[0m             \u001b[0;32mexcept\u001b[0m \u001b[0mKeyError\u001b[0m \u001b[0;32mas\u001b[0m \u001b[0merr\u001b[0m\u001b[0;34m:\u001b[0m\u001b[0;34m\u001b[0m\u001b[0;34m\u001b[0m\u001b[0m\n\u001b[0;32m-> 3631\u001b[0;31m                 \u001b[0;32mraise\u001b[0m \u001b[0mKeyError\u001b[0m\u001b[0;34m(\u001b[0m\u001b[0mkey\u001b[0m\u001b[0;34m)\u001b[0m \u001b[0;32mfrom\u001b[0m \u001b[0merr\u001b[0m\u001b[0;34m\u001b[0m\u001b[0;34m\u001b[0m\u001b[0m\n\u001b[0m\u001b[1;32m   3632\u001b[0m             \u001b[0;32mexcept\u001b[0m \u001b[0mTypeError\u001b[0m\u001b[0;34m:\u001b[0m\u001b[0;34m\u001b[0m\u001b[0;34m\u001b[0m\u001b[0m\n\u001b[1;32m   3633\u001b[0m                 \u001b[0;31m# If we have a listlike key, _check_indexing_error will raise\u001b[0m\u001b[0;34m\u001b[0m\u001b[0;34m\u001b[0m\u001b[0m\n",
            "\u001b[0;31mKeyError\u001b[0m: '2014'"
          ]
        }
      ]
    }
  ],
  "metadata": {
    "colab": {
      "provenance": [],
      "authorship_tag": "ABX9TyP7F7mkEKP6CNy/1wbC+OwZ",
      "include_colab_link": true
    },
    "kernelspec": {
      "display_name": "Python 3",
      "name": "python3"
    },
    "language_info": {
      "name": "python"
    }
  },
  "nbformat": 4,
  "nbformat_minor": 0
}